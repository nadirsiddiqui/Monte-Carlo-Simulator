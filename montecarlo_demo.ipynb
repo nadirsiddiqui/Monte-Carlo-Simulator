{
 "cells": [
  {
   "cell_type": "markdown",
   "id": "45762487-d33f-486d-8e38-2cdea04e3528",
   "metadata": {},
   "source": [
    "# Metadata\n",
    "\n",
    "* Title: **Final Project Report**\n",
    "* Class: DS 5100\n",
    "* Date: 7/15/22\n",
    "* Student Name: Nadir Siddiqui\n",
    "* Student Net ID: nhs2bc\n",
    "* This URL: https://github.com/nadirsiddiqui/Monte-Carlo-Simulator/blob/main/montecarlo_demo.ipynb\n",
    "* GitHub Repo URL: https://github.com/nadirsiddiqui/Monte-Carlo-Simulator"
   ]
  },
  {
   "cell_type": "markdown",
   "id": "d32cb273-9a40-4909-a7ce-51f6e4958d3c",
   "metadata": {},
   "source": [
    "# The Monte Carlo Module"
   ]
  },
  {
   "cell_type": "code",
   "execution_count": 1,
   "id": "e682b816-3843-46f5-a5ff-026248626a05",
   "metadata": {},
   "outputs": [],
   "source": [
    "import pandas as pd\n",
    "import numpy as np\n",
    "\n",
    "\n",
    "class Die():\n",
    "    \"\"\"\n",
    "    This class initiates, modifies, and rolls \"die\".\n",
    "    \"\"\"\n",
    "    \n",
    "    def __init__(self, array):\n",
    "        \"\"\"\n",
    "        This method initializes a dice object. It takes in an array of \n",
    "        values (either numeric or string) as the faces of the object.\n",
    "        Each object's faces default to a weight of 1.0.\n",
    "        \"\"\"\n",
    "\n",
    "        self.w = []\n",
    "        for i in array:\n",
    "            self.w.append(1.0)\n",
    "        self._df = pd.DataFrame({\n",
    "            'faces': array, \n",
    "            'weights': self.w\n",
    "        })\n",
    "    \n",
    "    def change_weight(self, value, weight):\n",
    "        \"\"\"\n",
    "        This method offers an opportunity to change the weights of the \n",
    "        faces of the object that was created.\n",
    "        \n",
    "        There are two parameters: \n",
    "            - value (the face value that is to be affected \n",
    "            - weight (the new weight to be assigned to the face)\n",
    "            \n",
    "        If the face value is not contained in the array of the object,\n",
    "        an error message will be returned. \n",
    "        If the weight is not a float or is unable to be converted to \n",
    "        a float, an error message will be returned.\n",
    "        \"\"\"\n",
    "        \n",
    "        if value not in self._df.faces.values:\n",
    "            print(\"Face value is not in the original array\")\n",
    "        elif (type(weight) != float) and (type(weight) != int):\n",
    "            print(\"Weight is not valid\")\n",
    "        else:\n",
    "            weight = float(weight)\n",
    "            self._df.loc[self._df['faces'] == value, 'weights'] = weight\n",
    "        \n",
    "    def roll(self, number = 1):\n",
    "        \"\"\"\n",
    "        This method rolls the object created by taking a random sample of the \n",
    "        object's faces using the assigned weights.\n",
    "        \n",
    "        There is one parameter:\n",
    "            - number (number of rolls desired; The default is set to 1)\n",
    "        \"\"\"\n",
    "        \n",
    "        return list(self._df.sample(number, weights = self._df.weights, replace=True).faces)\n",
    "        \n",
    "    def show(self):\n",
    "        \"\"\"\n",
    "        This method returns the current face values and the corresponding \n",
    "        weights for the object. \n",
    "        \"\"\"\n",
    "        \n",
    "        return self._df\n",
    "\n",
    "    \n",
    "class Game():\n",
    "    \"\"\"\n",
    "    This class initiates, plays, and displays the result of a game.\n",
    "    \"\"\"\n",
    "    \n",
    "    def __init__(self, die):\n",
    "        \"\"\"\n",
    "        This method initializes a list of objects/die that will be used\n",
    "        while playing the Game.\n",
    "        \n",
    "        There is 1 parameter:\n",
    "            - die (A list of similar Die objects that will be in the game)\n",
    "        \"\"\"\n",
    "        \n",
    "        self.die = die\n",
    "        \n",
    "    def play(self, number):\n",
    "        \"\"\"\n",
    "        This method plays the Game by rolling each object a set number of \n",
    "        times and adds the results of the rolls to a data frame. \n",
    "        \n",
    "        There is 1 parameter:\n",
    "            - number (The number of rolls each die should be rolled)\n",
    "        \"\"\"\n",
    "        \n",
    "        self._df = pd.DataFrame()\n",
    "        self.x = 1\n",
    "        for i in self.die:\n",
    "            df1 = pd.DataFrame({\"Die \"+str(self.x): pd.Series(i.roll(number))})\n",
    "            self._df = pd.concat([self._df, df1], axis = 1)\n",
    "            self.x += 1\n",
    "\n",
    "        self._df['Rolls'] = list(range(1, number+1))\n",
    "        self._df.set_index('Rolls', inplace=True)\n",
    "            \n",
    "    def show(self, form = \"wide\"):\n",
    "        \"\"\"\n",
    "        This method returns the data frame containing the results from\n",
    "        playing the game. \n",
    "        \n",
    "        There is 1 parameter:\n",
    "            - form (Whether the data frame should be returned in wide or\n",
    "            narrow form. If the input for this paramtere is not \"narrow\" or \n",
    "            \"wide\", it will return an error.\n",
    "        \"\"\"\n",
    "  \n",
    "        if form != \"wide\" and form != \"narrow\":\n",
    "            print(\"Invalid form\")\n",
    "        elif form == \"wide\":\n",
    "            return self._df\n",
    "        elif form == \"narrow\":\n",
    "            self._df = self._df.stack().to_frame('Face')\n",
    "            self._df.reset_index().set_index(['Rolls','Face'])\n",
    "            return self._df \n",
    "        \n",
    "\n",
    "class Analyzer():\n",
    "    \"\"\"\n",
    "    This class takes the results of a game and computes various descriptive\n",
    "    statistical properties about it.\n",
    "    \"\"\"\n",
    "    \n",
    "    def __init__(self, game):\n",
    "        \"\"\"\n",
    "        This method initializes the results of a game to prepare for analysis.\n",
    "        \n",
    "        There is 1 parameter:\n",
    "            - game (a Game object to analyze)\n",
    "        \"\"\"\n",
    "        \n",
    "        self.game = game\n",
    "        self._result = self.game.show()\n",
    "            \n",
    "    def jackpot(self):\n",
    "        \"\"\"\n",
    "        This method compute how many times the game resulted in all faces \n",
    "        being identical. It then stores the roll number along with the face \n",
    "        value to a data frame called dfjack. Finally, it returns how many \n",
    "        jackpots occured to the user. \n",
    "        \"\"\"\n",
    "       \n",
    "        vals = self._result.values\n",
    "        self.dfjack = pd.DataFrame()\n",
    "        self.jackpot = 0\n",
    "        \n",
    "        for i in range(0, len(self._result)-1):\n",
    "            if pd.Series(vals[i]).nunique() == 1:\n",
    "                df2 = pd.DataFrame({'Face' : pd.Series(vals[i][0]),\n",
    "                                    'Roll' : i+1\n",
    "                                   })\n",
    "                self.dfjack = pd.concat([self.dfjack, df2], axis = 0)\n",
    "                self.jackpot += 1\n",
    "                \n",
    "        self.dfjack.set_index('Roll', inplace=True)\n",
    "        \n",
    "        return self.jackpot   \n",
    "            \n",
    "    def combo(self):\n",
    "        \"\"\"\n",
    "        This method computes and returns the distinct combinations of faces rolled, \n",
    "        along with their counts. This is returned as a data frame.\n",
    "        \"\"\"\n",
    "        \n",
    "        return self._result.apply(lambda x: pd.Series(sorted(x)), 1)\\\n",
    "    .value_counts()\\\n",
    "    .to_frame('n')\n",
    "        \n",
    "    def faces(self):\n",
    "        \"\"\"\n",
    "        This method computes how many times a given face is rolled in each event and\n",
    "        stores the results intoa data frame that is returned to the user. \n",
    "        \"\"\"\n",
    "        \n",
    "        self.df = self._result.apply(pd.Series.value_counts, axis=1).fillna(0).astype(int)\n",
    "        \n",
    "        return self.df        "
   ]
  },
  {
   "cell_type": "markdown",
   "id": "4c81c4f0-b6ff-46ab-ba2c-9de7f0179715",
   "metadata": {},
   "source": [
    "# Test Module"
   ]
  },
  {
   "cell_type": "code",
   "execution_count": null,
   "id": "14b878d8-258b-4cf2-ad88-b8ee90d43977",
   "metadata": {
    "tags": []
   },
   "outputs": [],
   "source": [
    "import os\n",
    "os.chdir('/Users/nadirsiddiqui/Documents/MSDS/DS5100/Monte-Carlo-Simulator/montecarlo')\n",
    "from montecarlo.montecarlo import *\n",
    "import unittest\n",
    "\n",
    "\n",
    "class TestDieMethods(unittest.TestCase):\n",
    "    \"\"\"\n",
    "    This class is designed to test the Die class.\n",
    "    \"\"\"\n",
    "    \n",
    "    def test_1_change_weight(self):\n",
    "        \"\"\"\n",
    "        This test assures that the change weight method assigns weights correctly.\n",
    "        \"\"\"\n",
    "        \n",
    "        die1 = Die([1, 2, 3, 4, 5, 6])\n",
    "        die1.change_weight(2, 5)\n",
    "        actual = die1.show().weights[1] == 5.0\n",
    "        expected = True\n",
    "        \n",
    "        self.assertEqual(actual, expected)\n",
    "        \n",
    "    def test_2_roll(self):\n",
    "        \"\"\"\n",
    "        This test assures that the roll method rolls the dice the correct\n",
    "        number of times.\n",
    "        \"\"\"\n",
    "        \n",
    "        die1 = Die([1, 2, 3, 4, 5, 6])\n",
    "        actual = len(die1.roll(10))\n",
    "        expected = 10\n",
    "\n",
    "        self.assertEqual(actual, expected)\n",
    "        \n",
    "    def test_3_show(self):\n",
    "        \"\"\"\n",
    "        This test assures that the show method properly stores and displays\n",
    "        a data frame.\n",
    "        \"\"\"\n",
    "        \n",
    "        die1 = Die([1, 2, 3, 4, 5, 6])\n",
    "        actual = len(die1.show())\n",
    "        expected = 6\n",
    "        \n",
    "        self.assertEqual(actual, expected)\n",
    "        \n",
    "     \n",
    "class TestGameMethods(unittest.TestCase):\n",
    "    \"\"\"\n",
    "    This class is designed to test the Game class.\n",
    "    \"\"\"\n",
    "    \n",
    "    def test_1_play(self):\n",
    "        \"\"\"\n",
    "        This test assures that the play method rolls all die the right\n",
    "        number of times.\n",
    "        \"\"\"\n",
    "        \n",
    "        die1 = Die([1, 2, 3, 4, 5, 6])\n",
    "        game1 = Game([die1])\n",
    "        game1.play(100)\n",
    "        actual = len(game1.show())\n",
    "        expected = 100\n",
    "        \n",
    "        self.assertEqual(actual, expected)\n",
    "        \n",
    "            \n",
    "    def test_2_show(self):\n",
    "        \"\"\"\n",
    "        This test assures that the show method properly stores and displays\n",
    "        a data frame.\n",
    "        \"\"\"\n",
    "        \n",
    "        die1 = Die([1, 2, 3, 4, 5, 6])\n",
    "        game1 = Game([die1])\n",
    "        game1.play(100)\n",
    "        actual = len(game1.show())\n",
    "        expected = 100\n",
    "        \n",
    "        self.assertEqual(actual, expected)\n",
    "\n",
    "        \n",
    "class TestAnalyzerMethods(unittest.TestCase):\n",
    "    \"\"\"\n",
    "    This class is designed to test the Analyzer class.\n",
    "    \"\"\"\n",
    "    \n",
    "    def test_1_jackpot(self):\n",
    "        \"\"\"\n",
    "        This test assures that the jackpot method stores only rolls that\n",
    "        resulted in a proper jackpot.\n",
    "        \"\"\"\n",
    "        \n",
    "        die1 = Die([1, 1, 1])\n",
    "        die2 = Die([1, 1, 1])\n",
    "        game1 = Game([die1, die2])\n",
    "        game1.play(100)\n",
    "        analysis = Analyzer(game1)\n",
    "        actual = analysis.jackpot()\n",
    "        expected = 99\n",
    "        \n",
    "        self.assertEqual(actual, expected)\n",
    "    \n",
    "    def test_2_combo(self):\n",
    "        \"\"\"\n",
    "        This test assures that the combo method properly stores and displays\n",
    "        a data frame of combos.\n",
    "        \"\"\"\n",
    "        \n",
    "        die1 = Die([1, 2, 3, 4, 5, 6])\n",
    "        die2 = Die([1, 2, 3, 4, 5, 6])\n",
    "        game1 = Game([die1, die2])\n",
    "        game1.play(100)\n",
    "        analysis = Analyzer(game1)\n",
    "        actual = sum(analysis.combo().n)\n",
    "        expected = 100\n",
    "        \n",
    "        self.assertEqual(actual, expected)\n",
    "    \n",
    "    def test_3_faces(self):\n",
    "        \"\"\"\n",
    "        This test assures that the faces method properly stores and displays\n",
    "        a data frame of face counts per roll.\n",
    "        \"\"\"\n",
    "        \n",
    "        die1 = Die([1, 2, 3, 4, 5, 6])\n",
    "        die2 = Die([1, 2, 3, 4, 5, 6])\n",
    "        game1 = Game([die1, die2])\n",
    "        game1.play(100)\n",
    "        analysis = Analyzer(game1)\n",
    "        actual = [len(analysis.faces().columns), len(analysis.faces())]\n",
    "        expected = [6, 100]\n",
    "        \n",
    "        self.assertEqual(actual, expected)\n",
    "    \n",
    "if __name__ == '__main__':\n",
    "    unittest.main(verbosity=3)"
   ]
  },
  {
   "cell_type": "markdown",
   "id": "3c2b90b6-ac8b-43fa-a069-cb5b0b22aee0",
   "metadata": {},
   "source": [
    "# Test Results"
   ]
  },
  {
   "cell_type": "code",
   "execution_count": null,
   "id": "c80201af-9579-4a2c-bbc7-805e420d156c",
   "metadata": {},
   "outputs": [],
   "source": [
    "test_1_jackpot (__main__.TestAnalyzerMethods)\n",
    "This test assures that the jackpot method stores only rolls that ... ok\n",
    "test_2_combo (__main__.TestAnalyzerMethods)\n",
    "This test assures that the combo method properly stores and displays ... ok\n",
    "test_3_faces (__main__.TestAnalyzerMethods)\n",
    "This test assures that the faces method properly stores and displays ... ok\n",
    "test_1_change_weight (__main__.TestDieMethods)\n",
    "This test assures that the change weight method assigns weights correctly. ... ok\n",
    "test_2_roll (__main__.TestDieMethods)\n",
    "This test assures that the roll method rolls the dice the correct ... ok\n",
    "test_3_show (__main__.TestDieMethods)\n",
    "This test assures that the show method properly stores and displays ... ok\n",
    "test_1_play (__main__.TestGameMethods)\n",
    "This test assures that the play method rolls all die the right ... ok\n",
    "test_2_show (__main__.TestGameMethods)\n",
    "This test assures that the show method properly stores and displays ... ok\n",
    "\n",
    "----------------------------------------------------------------------\n",
    "Ran 8 tests in 0.087s\n",
    "\n",
    "OK\n"
   ]
  },
  {
   "cell_type": "markdown",
   "id": "7c44695d-d1b3-4edf-9f94-e64d7446f199",
   "metadata": {},
   "source": [
    "# Scenarios\n",
    "\n",
    "Code blocks with your scenarios and their outputs. \n",
    "\n",
    "These should have appropriate import statements even though the code is now in the same notebook as the classes it calls. "
   ]
  },
  {
   "cell_type": "markdown",
   "id": "90b7abd8-f4a7-4d71-bc9a-746640516b98",
   "metadata": {},
   "source": [
    "## Scenario 1"
   ]
  },
  {
   "cell_type": "code",
   "execution_count": 2,
   "id": "0156dfb0-4f70-47db-8529-bf82b3f6cf76",
   "metadata": {},
   "outputs": [
    {
     "name": "stdout",
     "output_type": "stream",
     "text": [
      "Welcome to the Monte Carlo Simulator!\n"
     ]
    }
   ],
   "source": [
    "from montecarlo.montecarlo import *\n",
    "import numpy as np\n",
    "import matplotlib.pyplot as plt"
   ]
  },
  {
   "cell_type": "code",
   "execution_count": 4,
   "id": "19b7b696-0110-4a64-9373-37ff3a9816dc",
   "metadata": {},
   "outputs": [],
   "source": [
    "fair_coin = Die(np.array(['H', 'T']))\n",
    "unfair_coin = Die(np.array(['H', 'T']))\n",
    "unfair_coin.change_weight('H', 5)\n",
    "\n",
    "rolls = 1000\n",
    "game1 = Game([fair_coin, fair_coin, fair_coin])\n",
    "game1.play(rolls)\n",
    "game2 = Game([unfair_coin, unfair_coin, fair_coin])\n",
    "game2.play(rolls)"
   ]
  },
  {
   "cell_type": "code",
   "execution_count": 5,
   "id": "cd81573c-9591-4fc9-9cd5-282239b71bb5",
   "metadata": {},
   "outputs": [
    {
     "name": "stdout",
     "output_type": "stream",
     "text": [
      "Game 1 Jackpot Frequency:  0.268\n",
      "Game 2 Jackpot Frequency:  0.361\n"
     ]
    }
   ],
   "source": [
    "analysis1 = Analyzer(game1)\n",
    "a1 = analysis1.jackpot()/rolls\n",
    "analysis2 = Analyzer(game2)\n",
    "a2 = analysis2.jackpot()/rolls\n",
    "print(\"Game 1 Jackpot Frequency: \", a1)\n",
    "print(\"Game 2 Jackpot Frequency: \", a2)"
   ]
  },
  {
   "cell_type": "code",
   "execution_count": 6,
   "id": "dbc574ed-66bf-465d-9d8d-ae0d85359b04",
   "metadata": {},
   "outputs": [
    {
     "data": {
      "text/plain": [
       "<BarContainer object of 2 artists>"
      ]
     },
     "execution_count": 6,
     "metadata": {},
     "output_type": "execute_result"
    },
    {
     "data": {
      "image/png": "[encoded data removed]",
      "text/plain": [
       "<Figure size 432x288 with 1 Axes>"
      ]
     },
     "metadata": {
      "needs_background": "light"
     },
     "output_type": "display_data"
    }
   ],
   "source": [
    "plt.bar(['fair','unfair'],[a1, a2])"
   ]
  },
  {
   "cell_type": "markdown",
   "id": "92793a09-0024-465d-b272-2ef8b9a6c21c",
   "metadata": {},
   "source": [
    "## Scenario 2"
   ]
  },
  {
   "cell_type": "code",
   "execution_count": 7,
   "id": "8797b399-14ef-4d88-83f9-a930908c211c",
   "metadata": {},
   "outputs": [],
   "source": [
    "dice = np.array(range(1,7))\n",
    "fair = Die(dice)\n",
    "unfair1 = Die(dice)\n",
    "unfair2 = Die(dice)\n",
    "unfair1.change_weight(6, 5)\n",
    "unfair2.change_weight(1, 5)\n",
    "\n",
    "rolls = 10000\n",
    "game1 = Game([fair, fair, fair, fair, fair])\n",
    "game1.play(rolls)\n",
    "game2 = Game([unfair1, unfair1, unfair2, fair, fair])\n",
    "game2.play(rolls)"
   ]
  },
  {
   "cell_type": "code",
   "execution_count": 8,
   "id": "6de0bcdd-343c-4f73-9c9b-519ed8128d12",
   "metadata": {},
   "outputs": [
    {
     "name": "stdout",
     "output_type": "stream",
     "text": [
      "Game 1 Jackpot Frequency:  0.0004\n",
      "Game 2 Jackpot Frequency:  0.0009\n"
     ]
    }
   ],
   "source": [
    "analysis1 = Analyzer(game1)\n",
    "a1 = analysis1.jackpot()/rolls\n",
    "analysis2 = Analyzer(game2)\n",
    "a2 = analysis2.jackpot()/rolls\n",
    "print(\"Game 1 Jackpot Frequency: \", a1)\n",
    "print(\"Game 2 Jackpot Frequency: \", a2)"
   ]
  },
  {
   "cell_type": "code",
   "execution_count": 9,
   "id": "619f4ab6-b166-46ac-b9aa-77b301cddcac",
   "metadata": {},
   "outputs": [
    {
     "data": {
      "text/plain": [
       "<BarContainer object of 2 artists>"
      ]
     },
     "execution_count": 9,
     "metadata": {},
     "output_type": "execute_result"
    },
    {
     "data": {
      "image/png": "[encoded data removed]",
      "text/plain": [
       "<Figure size 432x288 with 1 Axes>"
      ]
     },
     "metadata": {
      "needs_background": "light"
     },
     "output_type": "display_data"
    }
   ],
   "source": [
    "plt.bar(['fair','unfair'],[a1, a2])"
   ]
  },
  {
   "cell_type": "code",
   "execution_count": 10,
   "id": "b5a28e51-355d-4feb-a417-ca3bba1a7d0f",
   "metadata": {},
   "outputs": [
    {
     "data": {
      "text/plain": [
       "<AxesSubplot:title={'center':'Game 1: Most Frequent Combinations'}, xlabel='Combinations of Faces', ylabel='Count'>"
      ]
     },
     "execution_count": 10,
     "metadata": {},
     "output_type": "execute_result"
    },
    {
     "data": {
      "image/png": "[encoded data removed]",
      "text/plain": [
       "<Figure size 432x288 with 1 Axes>"
      ]
     },
     "metadata": {
      "needs_background": "light"
     },
     "output_type": "display_data"
    }
   ],
   "source": [
    "analysis1.combo().head(10).plot(kind = 'bar', title = 'Game 1: Most Frequent Combinations', xlabel = 'Combinations of Faces', ylabel = 'Count')"
   ]
  },
  {
   "cell_type": "code",
   "execution_count": 11,
   "id": "69f8ba9f-01a3-4d18-bb1d-233b071f1bdf",
   "metadata": {},
   "outputs": [
    {
     "data": {
      "text/plain": [
       "<AxesSubplot:title={'center':'Game 2: Most Frequent Combinations'}, xlabel='Combinations of Faces', ylabel='Count'>"
      ]
     },
     "execution_count": 11,
     "metadata": {},
     "output_type": "execute_result"
    },
    {
     "data": {
      "image/png": "[encoded data removed]",
      "text/plain": [
       "<Figure size 432x288 with 1 Axes>"
      ]
     },
     "metadata": {
      "needs_background": "light"
     },
     "output_type": "display_data"
    }
   ],
   "source": [
    "analysis2.combo().head(10).plot(kind = 'bar', title = 'Game 2: Most Frequent Combinations', xlabel = 'Combinations of Faces', ylabel = 'Count')"
   ]
  },
  {
   "cell_type": "markdown",
   "id": "1b47f5b6-188d-4d24-9c2f-687b430e6624",
   "metadata": {},
   "source": [
    "## Scenario 3"
   ]
  },
  {
   "cell_type": "code",
   "execution_count": 12,
   "id": "ad6d2878-f832-4065-98a3-1ea78ff0a6d3",
   "metadata": {},
   "outputs": [
    {
     "name": "stdout",
     "output_type": "stream",
     "text": [
      "Combos that look like English words:  5\n",
      "Relative frequency of words:  0.005\n"
     ]
    }
   ],
   "source": [
    "letters = [\"a\",\"b\",\"c\",\"d\",\"e\",\n",
    "           \"f\",\"g\",\"h\",\"i\",\"j\",\n",
    "           \"k\",\"l\",\"m\",\"n\",\"o\",\n",
    "           \"p\",\"q\",\"r\",\"s\",\"t\",\n",
    "           \"u\",\"v\",\"w\",\"x\",\"y\",\"z\"]\n",
    "l_die = Die(letters)\n",
    "l_die.show()\n",
    "weights = [8.4966, 2.0720, 4.5388, 3.3844,\n",
    "           11.1607, 1.8121, 2.4705, 3.0034,\n",
    "           7.5448, 0.1965, 1.1016, 5.4893, \n",
    "           3.0129, 6.6544, 7.1635, 3.1671, \n",
    "           0.1962, 7.5809, 5.7351, 6.9509, \n",
    "           3.6308, 1.0074, 1.2899, 0.2902, \n",
    "           1.7779, 0.2722]\n",
    "\n",
    "x = 0\n",
    "for i in letters:\n",
    "    l_die.change_weight(i, weights[x])\n",
    "    x += 1\n",
    "                   \n",
    "game = Game([l_die, l_die, l_die, l_die, l_die])\n",
    "game.play(1000)\n",
    "analysis = Analyzer(game)\n",
    "pd.set_option('display.multi_sparse', False)\n",
    "#analysis.combo().index.values\n",
    "words = 5\n",
    "word_freq = words/1000\n",
    "print('Combos that look like English words: ', words)\n",
    "print('Relative frequency of words: ', word_freq)"
   ]
  },
  {
   "cell_type": "markdown",
   "id": "6ced706c-19e7-4e79-b171-bfb076f822b4",
   "metadata": {},
   "source": [
    "# Directory Listing\n",
    "\n",
    "A code block that executes the following bash command: \n",
    "\n",
    "```bash\n",
    "!ls -lRF -o\n",
    "```"
   ]
  },
  {
   "cell_type": "code",
   "execution_count": 13,
   "id": "5dbd35c2-e479-4179-b792-997d4293ba96",
   "metadata": {},
   "outputs": [
    {
     "name": "stdout",
     "output_type": "stream",
     "text": [
      "total 88\n",
      "-rw-r--r--@ 1 501   1070 Jul 15 15:54 LICENSE\n",
      "-rw-r--r--  1 501     23 Jul 15 15:54 README.md\n",
      "drwxr-xr-x@ 3 501     96 Jul 15 18:28 \u001b[34m__pycache__\u001b[m\u001b[m/\n",
      "drwxr-xr-x@ 6 501    192 Jul 15 19:17 \u001b[34mmontecarlo\u001b[m\u001b[m/\n",
      "drwxr-xr-x@ 6 501    192 Jul 15 19:06 \u001b[34mmontecarlo.egg-info\u001b[m\u001b[m/\n",
      "-rw-r--r--@ 1 501  22290 Jul 15 19:21 montecarlo_demo.ipynb\n",
      "-rw-r--r--@ 1 501   1032 Jul 15 18:29 montecarlo_testresults.txt\n",
      "-rw-r--r--@ 1 501   3594 Jul 15 19:12 montecarlo_tests.py\n",
      "-rw-r--r--  1 501    311 Jul 15 19:01 setup.py\n",
      "\n",
      "./__pycache__:\n",
      "total 16\n",
      "-rw-r--r--  1 501  6490 Jul 15 18:28 montecarlo.cpython-39.pyc\n",
      "\n",
      "./montecarlo:\n",
      "total 24\n",
      "-rw-r--r--  1 501    46 Jul 15 18:58 __init__.py\n",
      "drwxr-xr-x@ 4 501   128 Jul 15 19:17 \u001b[34m__pycache__\u001b[m\u001b[m/\n",
      "-rw-r--r--@ 1 501  5959 Jul 15 18:19 montecarlo.py\n",
      "\n",
      "./montecarlo/__pycache__:\n",
      "total 24\n",
      "-rw-r--r--  1 501   229 Jul 15 19:03 __init__.cpython-39.pyc\n",
      "-rw-r--r--  1 501  6501 Jul 15 19:17 montecarlo.cpython-39.pyc\n",
      "\n",
      "./montecarlo.egg-info:\n",
      "total 32\n",
      "-rw-r--r--  1 501  241 Jul 15 19:06 PKG-INFO\n",
      "-rw-r--r--  1 501  210 Jul 15 19:06 SOURCES.txt\n",
      "-rw-r--r--  1 501    1 Jul 15 19:06 dependency_links.txt\n",
      "-rw-r--r--  1 501   11 Jul 15 19:06 top_level.txt\n"
     ]
    }
   ],
   "source": [
    "!ls -lRF -o"
   ]
  },
  {
   "cell_type": "markdown",
   "id": "c4df835c-3cd7-4c74-a4de-51638607680b",
   "metadata": {
    "tags": []
   },
   "source": [
    "# Installation Output Listing\n",
    "    \n",
    "A code block that executes the code to install your your package and outputs a successful installation."
   ]
  },
  {
   "cell_type": "code",
   "execution_count": 14,
   "id": "3609769a-c338-4746-8607-d124caf76ed8",
   "metadata": {},
   "outputs": [
    {
     "name": "stdout",
     "output_type": "stream",
     "text": [
      "Obtaining file:///Users/nadirsiddiqui/Documents/MSDS/DS5100/Monte-Carlo-Simulator\n",
      "  Preparing metadata (setup.py) ... \u001b[?25ldone\n",
      "\u001b[?25hInstalling collected packages: montecarlo\n",
      "  Attempting uninstall: montecarlo\n",
      "    Found existing installation: montecarlo 0.1\n",
      "    Uninstalling montecarlo-0.1:\n",
      "      Successfully uninstalled montecarlo-0.1\n",
      "  Running setup.py develop for montecarlo\n",
      "Successfully installed montecarlo-0.1\n"
     ]
    }
   ],
   "source": [
    "# Installation commands\n",
    "!pip install -e ."
   ]
  }
 ],
 "metadata": {
  "kernelspec": {
   "display_name": "Python 3 (ipykernel)",
   "language": "python",
   "name": "python3"
  },
  "language_info": {
   "codemirror_mode": {
    "name": "ipython",
    "version": 3
   },
   "file_extension": ".py",
   "mimetype": "text/x-python",
   "name": "python",
   "nbconvert_exporter": "python",
   "pygments_lexer": "ipython3",
   "version": "3.9.12"
  },
  "widgets": {
   "application/vnd.jupyter.widget-state+json": {
    "state": {},
    "version_major": 2,
    "version_minor": 0
   }
  }
 },
 "nbformat": 4,
 "nbformat_minor": 5
}
